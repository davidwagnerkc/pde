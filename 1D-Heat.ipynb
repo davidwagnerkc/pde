{
 "cells": [
  {
   "cell_type": "markdown",
   "id": "4644c28c-c9a0-4228-a804-7cb6a7df7ea9",
   "metadata": {
    "editable": true,
    "slideshow": {
     "slide_type": ""
    },
    "tags": []
   },
   "source": [
    "$$\n",
    "\\frac{\\partial{u}}{\\partial{t}} = \\alpha \\frac{\\partial^2{u}}{\\partial{x^2}}\n",
    "$$"
   ]
  },
  {
   "cell_type": "markdown",
   "id": "bbab3270-9b16-4204-85b4-8d1e89f6c293",
   "metadata": {
    "editable": true,
    "slideshow": {
     "slide_type": ""
    },
    "tags": []
   },
   "source": [
    "$u(x, t)$ is the temperature at position $x$ and time $t$  \n",
    "$\\alpha$ is the thermal diffusivity of the material  \n",
    "$0 \\ge x \\ge L$ is the spatial domain  \n",
    "$u(x, 0) = f(x)$ is the initial temperature for some $f(x)$  \n",
    "$u(0, t) = u(L, t) = 0$ is the Dirichlet boundary condition"
   ]
  },
  {
   "cell_type": "markdown",
   "id": "ae021c3a-7620-4150-a520-425471c08400",
   "metadata": {},
   "source": [
    "1. Spatial discretization (FDM)"
   ]
  },
  {
   "cell_type": "markdown",
   "id": "f0e84483-290a-42c3-88a9-2ce2581b2607",
   "metadata": {},
   "source": [
    "$\\Delta{x} = \\frac{L}{N + 1}$"
   ]
  },
  {
   "cell_type": "markdown",
   "id": "d6043a55-618a-43f4-b51f-134110c27479",
   "metadata": {},
   "source": [
    "$$\n",
    "\\left. \\frac{\\partial^2{u}}{\\partial{x^2}} \\right|_{x_i}\n",
    "\\approx\n",
    "\\frac{u_{i-1} - 2u_i + u_i + 1}{\\Delta{x^2}}\n",
    "$$"
   ]
  },
  {
   "cell_type": "markdown",
   "id": "2c77f584-41b9-4696-a600-dd160092231c",
   "metadata": {},
   "source": [
    "Taylor expansion of $u(x_{i + 1})$ around $x_i$"
   ]
  },
  {
   "cell_type": "markdown",
   "id": "ed383e54-65c8-4e84-af94-b1d76d6a18a4",
   "metadata": {},
   "source": [
    "Taylor polynomial of degree $N$ (wiki uses $P_k(x)$ instead of $f(x)$ here)\n",
    "$$\n",
    "\\begin{align*}\n",
    "f(x) = \\left( \\sum_{n=0}^{N}\\frac{f^{(n)}(a)}{n!}(x - a)^n \\right) + R_n(x)\n",
    "\\end{align*}\n",
    "$$"
   ]
  },
  {
   "cell_type": "markdown",
   "id": "9240e396-dfe6-4390-93d4-1b56c044be29",
   "metadata": {},
   "source": [
    "2. Time discretization"
   ]
  },
  {
   "cell_type": "markdown",
   "id": "12966b44-c249-4bc0-b7b4-34d2cb022b9f",
   "metadata": {},
   "source": [
    "$$\n",
    "\\frac{du_i}{dt} = \\alpha \\frac{u_{i - 1} - 2u_i + u{i + 1}}{\\Delta{x^2}}\n",
    "$$"
   ]
  },
  {
   "cell_type": "code",
   "execution_count": null,
   "id": "7d877e40-4b22-4980-8143-0e409b48b637",
   "metadata": {},
   "outputs": [],
   "source": [
    "# !pip install matplotlib"
   ]
  },
  {
   "cell_type": "code",
   "execution_count": null,
   "id": "ad1036d6-e56b-43c3-895d-963a393e9915",
   "metadata": {},
   "outputs": [],
   "source": [
    "20993208 / 1024 / 1024"
   ]
  },
  {
   "cell_type": "code",
   "execution_count": null,
   "id": "e53bc3d2-705d-4900-8905-c2647400128c",
   "metadata": {},
   "outputs": [],
   "source": [
    "u[:5]"
   ]
  },
  {
   "cell_type": "code",
   "execution_count": null,
   "id": "8049c951-0071-41f7-8655-ac53f9a02a0a",
   "metadata": {},
   "outputs": [],
   "source": [
    "update(1)\n",
    "plt.show()"
   ]
  },
  {
   "cell_type": "code",
   "execution_count": null,
   "id": "dbe7355a-71e9-4cf2-a35e-c8b0270377d6",
   "metadata": {},
   "outputs": [],
   "source": [
    "%%time\n",
    "import numpy as np\n",
    "import matplotlib.pyplot as plt\n",
    "from matplotlib.animation import FuncAnimation\n",
    "import matplotlib\n",
    "matplotlib.rcParams['animation.embed_limit'] = 100"
   ]
  },
  {
   "cell_type": "code",
   "execution_count": null,
   "id": "0589d06f-7a3d-489e-8cfc-b2d571056e11",
   "metadata": {},
   "outputs": [],
   "source": [
    "L = 1.0  # Length of the spatial domain\n",
    "Nx = 100  # Number of spatial grid points\n",
    "alpha = 0.01  # Thermal diffusivity\n",
    "T = 0.2  # Total simulation time\n",
    "Nt = 1000  # Number of time steps\n",
    "dx = L / Nx\n",
    "dt = T / Nt"
   ]
  },
  {
   "cell_type": "code",
   "execution_count": null,
   "id": "7dfe01c1-352b-41e9-b4ec-4bf9d8838fe1",
   "metadata": {},
   "outputs": [],
   "source": [
    "def update(frame):\n",
    "    global u\n",
    "    u_new = np.zeros(Nx)\n",
    "    for i in range(1, Nx - 1):\n",
    "        u_new[i] = u[i] + alpha * (u[i+1] - 2*u[i] + u[i-1])\n",
    "    u = u_new\n",
    "    line.set_ydata(u)\n",
    "    ax.set_title(f'Time = {frame * dt:.2f} s')\n",
    "    return line,"
   ]
  },
  {
   "cell_type": "code",
   "execution_count": null,
   "id": "6c24da4a-1711-46ac-b7cf-4dd11da43380",
   "metadata": {},
   "outputs": [],
   "source": [
    "x = np.linspace(0, L, Nx)\n",
    "u = np.sin(np.pi * x)"
   ]
  },
  {
   "cell_type": "code",
   "execution_count": null,
   "id": "21dd1f5c-9d44-4fce-b768-2ea0570e737c",
   "metadata": {},
   "outputs": [],
   "source": [
    "fig, ax = plt.subplots()\n",
    "ax.set_xlim(0, L)\n",
    "ax.set_ylim(-1.5, 1.5)\n",
    "ax.set_xlabel('Spatial Domain (x)')\n",
    "ax.set_ylabel('Temperature (u)')\n",
    "line, = ax.plot(x, u, lw=2);"
   ]
  },
  {
   "cell_type": "code",
   "execution_count": null,
   "id": "790a92bd-8940-468c-a39e-05577f5cb91f",
   "metadata": {},
   "outputs": [],
   "source": [
    "ani = FuncAnimation(\n",
    "    fig, \n",
    "    update, \n",
    "    frames=Nt, \n",
    "    repeat=False, \n",
    "    blit=True, \n",
    "    interval=10\n",
    ")\n",
    "from IPython.display import HTML\n",
    "HTML(ani.to_jshtml())"
   ]
  }
 ],
 "metadata": {
  "kernelspec": {
   "display_name": "Python 3 (ipykernel)",
   "language": "python",
   "name": "python3"
  },
  "language_info": {
   "codemirror_mode": {
    "name": "ipython",
    "version": 3
   },
   "file_extension": ".py",
   "mimetype": "text/x-python",
   "name": "python",
   "nbconvert_exporter": "python",
   "pygments_lexer": "ipython3",
   "version": "3.11.7"
  }
 },
 "nbformat": 4,
 "nbformat_minor": 5
}
