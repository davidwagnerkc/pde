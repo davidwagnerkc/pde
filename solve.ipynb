{
 "cells": [
  {
   "cell_type": "raw",
   "id": "1c45b845-06a0-46dd-af39-35b1268bbb7d",
   "metadata": {
    "editable": true,
    "raw_mimetype": "",
    "slideshow": {
     "slide_type": ""
    },
    "tags": []
   },
   "source": [
    "---\n",
    "title: \"Solve\"\n",
    "execute:\n",
    "  echo: true\n",
    "format: html\n",
    "jupyter: python\n",
    "engine: jupyter\n",
    "---"
   ]
  },
  {
   "cell_type": "code",
   "execution_count": 15,
   "id": "586f8702-bbcb-4c95-83ce-3a6a3c095ffb",
   "metadata": {},
   "outputs": [
    {
     "name": "stdout",
     "output_type": "stream",
     "text": [
      "t=1.1 w=2.300\n",
      "t=1.2 w=2.609\n"
     ]
    }
   ],
   "source": [
    "h = 0.1  # step_size\n",
    "t = 1    # x\n",
    "w = 2    # f(x)\n",
    "\n",
    "def f(t, y):\n",
    "    return 1 + y / t\n",
    "    \n",
    "def euler(f, step_size, x_prev, y_prev):\n",
    "    return y_prev + step_size * f(x_prev, y_prev)\n",
    "    \n",
    "while t < 1.2:\n",
    "    w = w + h * f(t, w)\n",
    "    t += h\n",
    "    print(f\"{t=:0.1f} {w=:0.3f}\")"
   ]
  },
  {
   "cell_type": "code",
   "execution_count": null,
   "id": "19608210-e635-4d1a-bd46-5590449b5c01",
   "metadata": {},
   "outputs": [],
   "source": [
    "step_size = 0.1\n",
    "x_prev = 1\n",
    "y_prev = 2\n",
    "while < 1.2:\n",
    "    y_prev = euler(f, step_size, x_prev, y_prev)\n",
    "    t += step_size\n",
    "    "
   ]
  }
 ],
 "metadata": {
  "kernelspec": {
   "display_name": "Python 3 (ipykernel)",
   "language": "python",
   "name": "python3"
  },
  "language_info": {
   "codemirror_mode": {
    "name": "ipython",
    "version": 3
   },
   "file_extension": ".py",
   "mimetype": "text/x-python",
   "name": "python",
   "nbconvert_exporter": "python",
   "pygments_lexer": "ipython3",
   "version": "3.11.7"
  }
 },
 "nbformat": 4,
 "nbformat_minor": 5
}
